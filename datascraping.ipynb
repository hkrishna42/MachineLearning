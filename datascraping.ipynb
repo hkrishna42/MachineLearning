{
  "nbformat": 4,
  "nbformat_minor": 0,
  "metadata": {
    "colab": {
      "name": "datascraping.ipynb",
      "provenance": [],
      "authorship_tag": "ABX9TyMt/yIlPpHESb6rIvaJGkzV"
    },
    "kernelspec": {
      "name": "python3",
      "display_name": "Python 3"
    }
  },
  "cells": [
    {
      "cell_type": "markdown",
      "metadata": {
        "id": "hqCAIlOL4_or"
      },
      "source": [
        "Importing Libraries"
      ]
    },
    {
      "cell_type": "code",
      "metadata": {
        "id": "ZfAFvWQf5JUr"
      },
      "source": [
        "import bs4\n",
        "from urllib.request import urlopen as uReq\n",
        "from bs4 import BeautifulSoup as soup"
      ],
      "execution_count": 2,
      "outputs": []
    },
    {
      "cell_type": "markdown",
      "metadata": {
        "id": "oi-w2mYN5MbL"
      },
      "source": [
        "URL to scrape data, opening the connection to grab the page"
      ]
    },
    {
      "cell_type": "code",
      "metadata": {
        "id": "f-VwdXPt5YgM"
      },
      "source": [
        "#my_url = 'https://www.nytimes.com/search?dropmab=true&endDate=20201116&query=archives&sections=Arts%7Cnyt%3A%2F%2Fsection%2F6e6ee292-b4bd-5006-a619-9ceab03524f2&sort=best&startDate=20201016'\n",
        "my_url = 'https://www.nytimes.com/search?dropmab=true&endDate=20201116&query=archives&sections=Arts%7Cnyt%3A%2F%2Fsection%2F6e6ee292-b4bd-5006-a619-9ceab03524f2&sort=best&startDate=20201016'\n",
        "uClient = uReq(my_url)\n",
        "pageHtml = uClient.read()"
      ],
      "execution_count": 3,
      "outputs": []
    },
    {
      "cell_type": "markdown",
      "metadata": {
        "id": "jvTN082m5sLB"
      },
      "source": [
        "Close Connection"
      ]
    },
    {
      "cell_type": "code",
      "metadata": {
        "id": "vHxl-CMtKM_p"
      },
      "source": [
        "uClient.close()"
      ],
      "execution_count": 4,
      "outputs": []
    },
    {
      "cell_type": "markdown",
      "metadata": {
        "id": "57MqOPJw54ql"
      },
      "source": [
        "Using BeautifulSoup to parse"
      ]
    },
    {
      "cell_type": "code",
      "metadata": {
        "id": "_j0yAs0V5_sS",
        "outputId": "5d66aab0-2b0f-4e8b-b82e-aec9eb2a5920",
        "colab": {
          "base_uri": "https://localhost:8080/"
        }
      },
      "source": [
        "pageSoup = soup(pageHtml,\"html.parser\")\n",
        "newsHeadings = pageSoup.find_all('h4',{\"class\":\"css-2fgx4k\"})\n",
        "newsSubCategory = pageSoup.findAll('p',{\"class\":\"css-myxawk\"})\n",
        "newsDescription = pageSoup.findAll('p',{\"class\":\"css-16nhkrn\"})\n",
        "newsAuthor = pageSoup.findAll('p',{\"class\":\"css-15w69y9\"})\n",
        "newsAuthor\n",
        "#newsAuthor[0]\n",
        "#pageSoup.span.findAll({\"class\":\"css-17ubb9w\"})"
      ],
      "execution_count": 7,
      "outputs": [
        {
          "output_type": "execute_result",
          "data": {
            "text/plain": [
              "[<p class=\"css-15w69y9\">By Lindsay Zoladz</p>,\n",
              " <p class=\"css-15w69y9\">By Peter Libbey</p>,\n",
              " <p class=\"css-15w69y9\">By Genevieve Curtis</p>,\n",
              " <p class=\"css-15w69y9\">By Sarah Bahr</p>,\n",
              " <p class=\"css-15w69y9\">By Thomas May</p>,\n",
              " <p class=\"css-15w69y9\">By Holland Cotter</p>,\n",
              " <p class=\"css-15w69y9\">By Kimberly Bradley</p>,\n",
              " <p class=\"css-15w69y9\">By Nazanin Lankarani</p>,\n",
              " <p class=\"css-15w69y9\">By Dave Itzkoff</p>]"
            ]
          },
          "metadata": {
            "tags": []
          },
          "execution_count": 7
        }
      ]
    }
  ]
}